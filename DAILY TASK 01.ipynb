{
 "cells": [
  {
   "cell_type": "markdown",
   "id": "512f354d",
   "metadata": {},
   "source": [
    "### COME UP WITH 2 EXAMPLES WITH STRING METHOS"
   ]
  },
  {
   "cell_type": "markdown",
   "id": "1ae7fb08",
   "metadata": {},
   "source": [
    "- Python has a set of built-in methods that can be used on a strings.\n",
    "- There are total 42 built-in methods for string."
   ]
  },
  {
   "cell_type": "code",
   "execution_count": 1,
   "id": "f799fb15",
   "metadata": {},
   "outputs": [
    {
     "name": "stdout",
     "output_type": "stream",
     "text": [
      "Priyanka\n",
      "=====================\n",
      "My name is : Priyanka\n",
      "=====================\n",
      "My full name is: Priyanka Krishna \n"
     ]
    }
   ],
   "source": [
    "# 1.capitalize() - CONVERTS THE FIRST LETTER TO UPPER CASE\n",
    "\n",
    "name = 'priyanka'\n",
    "print(name.capitalize())\n",
    "\n",
    "print('=====================')\n",
    "\n",
    "sentence='priyanka'\n",
    "print('My name is :',sentence.capitalize())\n",
    "\n",
    "print('=====================')\n",
    "\n",
    "fname='priyanka '\n",
    "lname ='krishna '\n",
    "print('My full name is:',fname.capitalize()+lname.capitalize())"
   ]
  },
  {
   "cell_type": "code",
   "execution_count": 2,
   "id": "53a3181f",
   "metadata": {},
   "outputs": [
    {
     "name": "stdout",
     "output_type": "stream",
     "text": [
      "arjun is a software employee.\n",
      "=====================\n",
      "he is an employee of ibm.\n",
      "=====================\n",
      "his age is 25.\n",
      "=====================\n",
      "LOWER CASE STRING IS: arjun is a software employee. he is an employee of ibm. his age is 25.\n",
      "=====================\n",
      "The strings are equal.\n"
     ]
    }
   ],
   "source": [
    "#2.casefold() - CONVERTS THE STRING TO LOWER CASE\n",
    "\n",
    "user_info='ArJun Is A SoFtware EmPloyee.'\n",
    "print(user_info.casefold())\n",
    "\n",
    "print('=====================')\n",
    "\n",
    "user_company='He Is an Employee Of IBM.'\n",
    "print(user_company.casefold())\n",
    "\n",
    "print('=====================')\n",
    "\n",
    "user_age='HIs Age is 25.'\n",
    "print(user_age.casefold())\n",
    "\n",
    "print('=====================')\n",
    "\n",
    "print('LOWER CASE STRING IS:',user_info.casefold()+' '+user_company.casefold()+' '+user_age.casefold())\n",
    "\n",
    "print('=====================')\n",
    "\n",
    "first_name = \"PriyAnka\"\n",
    "last_name = \"priyanka\"\n",
    "\n",
    "# ß is equivalent to ss\n",
    "if first_name.casefold() == last_name.casefold():\n",
    "    print('The strings are equal.')\n",
    "else:\n",
    "    print('The strings are not equal.')"
   ]
  },
  {
   "cell_type": "code",
   "execution_count": 3,
   "id": "a48ae94e",
   "metadata": {},
   "outputs": [
    {
     "name": "stdout",
     "output_type": "stream",
     "text": [
      "            John is our mentor for Data Science sessions.             \n",
      "=====================\n",
      "*******John is our mentor for Data Science sessions.********\n",
      "=====================\n"
     ]
    },
    {
     "ename": "TypeError",
     "evalue": "'str' object cannot be interpreted as an integer",
     "output_type": "error",
     "traceback": [
      "\u001b[1;31m---------------------------------------------------------------------------\u001b[0m",
      "\u001b[1;31mTypeError\u001b[0m                                 Traceback (most recent call last)",
      "\u001b[1;32m~\\AppData\\Local\\Temp/ipykernel_22932/2329359681.py\u001b[0m in \u001b[0;36m<module>\u001b[1;34m\u001b[0m\n\u001b[0;32m     15\u001b[0m \u001b[1;31m#using only fillchar\u001b[0m\u001b[1;33m\u001b[0m\u001b[1;33m\u001b[0m\u001b[0m\n\u001b[0;32m     16\u001b[0m \u001b[0mclass_mentor\u001b[0m\u001b[1;33m=\u001b[0m\u001b[1;34m'John is our mentor for Data Science sessions.'\u001b[0m\u001b[1;33m\u001b[0m\u001b[1;33m\u001b[0m\u001b[0m\n\u001b[1;32m---> 17\u001b[1;33m \u001b[0mprint\u001b[0m\u001b[1;33m(\u001b[0m\u001b[0mclass_mentor\u001b[0m\u001b[1;33m.\u001b[0m\u001b[0mcenter\u001b[0m\u001b[1;33m(\u001b[0m\u001b[1;34m'*'\u001b[0m\u001b[1;33m)\u001b[0m\u001b[1;33m)\u001b[0m \u001b[1;31m# Hence using only fill char will result an error\u001b[0m\u001b[1;33m\u001b[0m\u001b[1;33m\u001b[0m\u001b[0m\n\u001b[0m",
      "\u001b[1;31mTypeError\u001b[0m: 'str' object cannot be interpreted as an integer"
     ]
    }
   ],
   "source": [
    "# 3.center()- Returns a centered string.Center has two arguments width and fillchar\n",
    "\n",
    "# using only width\n",
    "class_mentor='John is our mentor for Data Science sessions.'\n",
    "print(class_mentor.center(70))\n",
    "\n",
    "print('=====================')\n",
    "\n",
    "#using width and fillchar\n",
    "class_mentor='John is our mentor for Data Science sessions.'\n",
    "print(class_mentor.center(60,'*'))\n",
    "\n",
    "print('=====================')\n",
    "\n",
    "#using only fillchar\n",
    "class_mentor='John is our mentor for Data Science sessions.'\n",
    "print(class_mentor.center('*')) # Hence using only fill char will result an error"
   ]
  },
  {
   "cell_type": "code",
   "execution_count": 4,
   "id": "b38ac8b8",
   "metadata": {},
   "outputs": [
    {
     "name": "stdout",
     "output_type": "stream",
     "text": [
      "The number of occurance of : 8\n",
      "=========================\n",
      "The number of occurance of : 4\n",
      "=========================\n"
     ]
    }
   ],
   "source": [
    "# 4.count() - Returns the number of times a specified value occurs in a string.It has two optional parameters start and end\n",
    "\n",
    "statement ='QUOTES ARE MANDATORY TO PRINT THE STATEMENT'\n",
    "print('The number of occurance of :',statement.count('T'))\n",
    "\n",
    "print('=========================')\n",
    "\n",
    "statement ='QUOTES ARE MANDATORY TO PRINT THE STATEMENT'\n",
    "print('The number of occurance of :',statement.count('T',10,33))\n",
    "\n",
    "print('=========================')"
   ]
  },
  {
   "cell_type": "code",
   "execution_count": 5,
   "id": "ec3f362c",
   "metadata": {},
   "outputs": [
    {
     "name": "stdout",
     "output_type": "stream",
     "text": [
      "b'Python is a programming langage!'\n",
      "===========================================\n",
      "The encoded version is:  b'Data Science!'\n"
     ]
    }
   ],
   "source": [
    "#5.encode() - Returns an encoded version of the string\n",
    "\n",
    "py_lang='Python is a programming langage!'\n",
    "print(py_lang.encode())\n",
    "\n",
    "print('===========================================')\n",
    "\n",
    "# unicode string\n",
    "string = 'Data Science!'\n",
    "print('The encoded version is: ',string.encode())"
   ]
  },
  {
   "cell_type": "code",
   "execution_count": 6,
   "id": "6dde4cfd",
   "metadata": {},
   "outputs": [
    {
     "name": "stdout",
     "output_type": "stream",
     "text": [
      "ENDS WITH WORD case: False\n",
      "======================================================================\n",
      "ENDS WITH WORD sensitive: True\n",
      "======================================================================\n",
      "ENDS WITH WORD language: True\n",
      "======================================================================\n",
      "ENDS WITH WORD language: False\n"
     ]
    }
   ],
   "source": [
    "# 6.endswith() - Returns true if the string ends with the specified value.It has two parameters i.e,start and end\n",
    "\n",
    "#endswith() Without start and end Parameters\n",
    "\n",
    "language='Python language is high level language and case sensitive'\n",
    "print('ENDS WITH WORD case:',language.endswith('case'))\n",
    "\n",
    "print('======================================================================')\n",
    "\n",
    "language='Python language is high level language and case sensitive'\n",
    "print('ENDS WITH WORD sensitive:',language.endswith('sensitive'))\n",
    "\n",
    "print('======================================================================')\n",
    "\n",
    "#endswith() With start and end Parameters\n",
    "language='Python language is high level language and case sensitive'\n",
    "print('ENDS WITH WORD language:',language.endswith('language',7,38))\n",
    "\n",
    "print('======================================================================')\n",
    "\n",
    "language='Python language is high level language and case sensitive'\n",
    "print('ENDS WITH WORD language:',language.endswith('language',7,40))\n",
    "\n"
   ]
  },
  {
   "cell_type": "code",
   "execution_count": 7,
   "id": "a1ff12fa",
   "metadata": {},
   "outputs": [
    {
     "name": "stdout",
     "output_type": "stream",
     "text": [
      "LANGUAGES : Telugu  Hindi   English\n",
      "======================================================================\n",
      "LANGUAGES : Telugu Hindi English\n",
      "======================================================================\n",
      "LANGUAGES : Telugu  Hindi English\n",
      "======================================================================\n",
      "LANGUAGES : Telugu   Hindi English\n",
      "======================================================================\n",
      "LANGUAGES : Telugu  Hindi   English\n",
      "======================================================================\n",
      "LANGUAGES : Telugu    Hindi     English\n",
      "======================================================================\n",
      "LANGUAGES : Telugu      Hindi English\n"
     ]
    }
   ],
   "source": [
    "# 7.expandtabs() - Sets the tab size of the string.Here the tab stops are the multiples of the tabsize given in the expandtabs.\n",
    "\n",
    "#expandtabs() With no Argument\n",
    "languages= 'Telugu\\tHindi\\tEnglish'\n",
    "output=languages.expandtabs()\n",
    "print('LANGUAGES :',output)\n",
    "\n",
    "print('======================================================================')\n",
    "\n",
    "languages= 'Telugu\\tHindi\\tEnglish'\n",
    "print('LANGUAGES :',languages.expandtabs(1))\n",
    "\n",
    "print('======================================================================')\n",
    "\n",
    "languages= 'Telugu\\tHindi\\tEnglish'\n",
    "print('LANGUAGES :',languages.expandtabs(2))\n",
    "\n",
    "print('======================================================================')\n",
    "\n",
    "languages= 'Telugu\\tHindi\\tEnglish'\n",
    "print('LANGUAGES :',languages.expandtabs(3))\n",
    "\n",
    "print('======================================================================')\n",
    "\n",
    "languages= 'Telugu\\tHindi\\tEnglish'\n",
    "print('LANGUAGES :',languages.expandtabs(4))\n",
    "\n",
    "print('======================================================================')\n",
    "\n",
    "languages= 'Telugu\\tHindi\\tEnglish'\n",
    "print('LANGUAGES :',languages.expandtabs(5))\n",
    "\n",
    "print('======================================================================')\n",
    "\n",
    "languages= 'Telugu\\tHindi\\tEnglish'\n",
    "print('LANGUAGES :',languages.expandtabs(6))\n",
    "\n",
    "\n"
   ]
  },
  {
   "cell_type": "code",
   "execution_count": 8,
   "id": "421d01fc",
   "metadata": {},
   "outputs": [
    {
     "name": "stdout",
     "output_type": "stream",
     "text": [
      "Substring 'an': 4\n",
      "Substring 'funny ': -1\n",
      "Contains substring 'is'\n",
      "===========================================================================\n",
      "8\n",
      "20\n",
      "-1\n",
      "-1\n"
     ]
    }
   ],
   "source": [
    "# 8.find() - Searches the string for a specified value and returns the position of where it was found\n",
    "\n",
    "#find() With No start and end Argument\n",
    "\n",
    "cartoon = 'Tom and Jerry is an american animated media'\n",
    "\n",
    "# first occurance of 'an'(case sensitive)\n",
    "result = cartoon.find('an')\n",
    "print(\"Substring 'an':\", result)\n",
    "\n",
    "# find returns -1 if substring not found\n",
    "result = cartoon.find('funny')\n",
    "print(\"Substring 'funny ':\", result)\n",
    "\n",
    "# How to use find()\n",
    "if (cartoon.find('is') != -1):\n",
    "    print(\"Contains substring 'is'\")\n",
    "else:\n",
    "    print(\"Doesn't contain substring\")\n",
    "    \n",
    "print(\"===========================================================================\")    \n",
    "#find() With No start and end Argument\n",
    "\n",
    "cartoon = 'Tom and Jerry is an american animated media'\n",
    "\n",
    "# Substring is searched in 'Jerry is an american animated'\n",
    "print(cartoon.find('Jerry is an american animated', 6))\n",
    "\n",
    "# Substring is searched in 'Jerry is an american animated media' \n",
    "print(cartoon.find('american animated', 2))\n",
    "\n",
    "# Substring is searched in 'Jerry is an american animated media'\n",
    "print(cartoon.find('y is an a ', 10, -1))\n",
    "\n",
    "# Substring is searched in 'erry is an american animated media'\n",
    "print(cartoon.find('things ', 6, 20))    "
   ]
  },
  {
   "cell_type": "code",
   "execution_count": 9,
   "id": "fd982c52",
   "metadata": {},
   "outputs": [
    {
     "name": "stdout",
     "output_type": "stream",
     "text": [
      "Hello Jhon, This is Priyanka.\n",
      "===========================================================================\n",
      "Hello Jhon, This is Priyanka.\n",
      "===========================================================================\n",
      "Hello Jhon, Very Good Morning.\n",
      "===========================================================================\n",
      "Hello Jhon,Very Good Morning.\n"
     ]
    }
   ],
   "source": [
    "#9. format() - Formats specified values in a string\n",
    "\n",
    "#Basic formatting for default, positional and keyword arguments\n",
    "\n",
    "# default arguments\n",
    "print(\"Hello {}, This is {}.\".format(\"Jhon\", \"Priyanka\"))\n",
    "\n",
    "print(\"===========================================================================\")    \n",
    "\n",
    "# positional arguments\n",
    "print(\"Hello {0}, This is {1}.\".format(\"Jhon\", \"Priyanka\"))\n",
    "\n",
    "print(\"===========================================================================\")    \n",
    "\n",
    "# keyword arguments\n",
    "print(\"Hello {name1}, Very {wishes}.\".format(name1=\"Jhon\", wishes='Good Morning'))\n",
    "\n",
    "print(\"===========================================================================\")    \n",
    "\n",
    "# mixed arguments\n",
    "print(\"Hello {0},Very {wishes}.\".format(\"Jhon\", wishes='Good Morning'))\n"
   ]
  },
  {
   "cell_type": "code",
   "execution_count": 10,
   "id": "9cf821b5",
   "metadata": {},
   "outputs": [
    {
     "name": "stdout",
     "output_type": "stream",
     "text": [
      "Substring 'a high': 10\n",
      "Substring 'programming': 23\n",
      "==============================================\n",
      "12\n",
      "14\n",
      "26\n"
     ]
    }
   ],
   "source": [
    "#10.index() - Searches the string for a specified value and returns the position of where it was found\n",
    "\n",
    "#index() With Substring argument Only\n",
    "lang = 'Python is a high level programming language'\n",
    "\n",
    "result = lang.index('a high')\n",
    "print(\"Substring 'a high':\", result)\n",
    "\n",
    "result = lang.index('programming')\n",
    "print(\"Substring 'programming':\", result)\n",
    "\n",
    "print(\"==============================================\")\n",
    "\n",
    "#index() With start and end Arguments\n",
    "\n",
    "lang = 'Python is a high level programming language'\n",
    "\n",
    "# Substring is searched in ' is a high level programming'\n",
    "print(lang.index('high', 10))\n",
    "\n",
    "# Substring is searched in 'gramming is '\n",
    "print(lang.index('g', 10, -4))\n",
    "\n",
    "# Substring is searched in 'programming'\n",
    "print(lang.index('gram', 7, 30))"
   ]
  },
  {
   "cell_type": "code",
   "execution_count": 11,
   "id": "776cea80",
   "metadata": {},
   "outputs": [
    {
     "name": "stdout",
     "output_type": "stream",
     "text": [
      "False\n",
      "False\n",
      "True\n",
      "True\n",
      "===============================================================\n",
      "All characters are not alphanumeric.\n",
      "===============================================================\n",
      "All characters of string (name) are alphanumeric.\n"
     ]
    }
   ],
   "source": [
    "# 11.isalnum() - Returns True if all characters in the string are alphanumeric(either alphabets or numbers)\n",
    "\n",
    "name = \"Priya__442\"\n",
    "print(name.isalnum())\n",
    "\n",
    "# contains whitespace\n",
    "name = \"priya 442 \"\n",
    "print(name.isalnum())\n",
    "\n",
    "name = \"priya442\"\n",
    "print(name.isalnum())\n",
    "\n",
    "name = \"442\"\n",
    "print(name.isalnum())\n",
    "\n",
    "print('===============================================================')\n",
    "\n",
    "name = \"Priya 442\"\n",
    "\n",
    "if name.isalnum() == True:\n",
    "    print(\"All characters of string (name) are alphanumeric.\")\n",
    "else:\n",
    "    print(\"All characters are not alphanumeric.\")\n",
    "\n",
    "print('===============================================================')\n",
    "\n",
    "name = \"Priya442\"\n",
    "\n",
    "if name.isalnum() == True:\n",
    "    print(\"All characters of string (name) are alphanumeric.\")\n",
    "else:\n",
    "    print(\"All characters are not alphanumeric.\")    \n"
   ]
  },
  {
   "cell_type": "code",
   "execution_count": 12,
   "id": "8da8b79c",
   "metadata": {},
   "outputs": [
    {
     "name": "stdout",
     "output_type": "stream",
     "text": [
      "True\n",
      "False\n",
      "False\n",
      "==============================================================\n",
      "All characters are alphabets\n",
      "==============================================================\n",
      "All characters are not alphabets.\n"
     ]
    }
   ],
   "source": [
    "#12.isalpha() - Returns True if all characters in the string are in the alphabet\n",
    "\n",
    "\n",
    "name = \"priyanka\"\n",
    "print(name.isalpha())\n",
    "\n",
    "# contains whitespace\n",
    "name = \"priyanka krishna\"\n",
    "print(name.isalpha())\n",
    "\n",
    "# contains number\n",
    "name = \"priyankakrishna442\"\n",
    "print(name.isalpha())\n",
    "\n",
    "print(\"==============================================================\")\n",
    "\n",
    "name = \"priyanka\"\n",
    "\n",
    "if name.isalpha() == True:\n",
    "    print(\"All characters are alphabets\")\n",
    "else:\n",
    "    print(\"All characters are not alphabets.\")\n",
    "    \n",
    "print(\"==============================================================\")\n",
    "\n",
    "name = \"priyanka krishna\"\n",
    "\n",
    "if name.isalpha() == True:\n",
    "    print(\"All characters are alphabets\")\n",
    "else:\n",
    "    print(\"All characters are not alphabets.\")    "
   ]
  },
  {
   "cell_type": "code",
   "execution_count": 13,
   "id": "2a72ec46",
   "metadata": {},
   "outputs": [
    {
     "name": "stdout",
     "output_type": "stream",
     "text": [
      "True\n",
      "False\n",
      "False\n"
     ]
    }
   ],
   "source": [
    "#13. isdecimal() - Returns True if all characters in the string are decimals\n",
    "\n",
    "num = \"1710442\"\n",
    "print(num.isdecimal())\n",
    "\n",
    "# contains alphabets\n",
    "num = \"17uj1a0442\"\n",
    "print(num.isdecimal())\n",
    "\n",
    "# contains alphabets and spaces\n",
    "num = \"17 uj 1 a 0442\"\n",
    "print(num.isdecimal())"
   ]
  },
  {
   "cell_type": "code",
   "execution_count": 14,
   "id": "57a1ed1b",
   "metadata": {},
   "outputs": [
    {
     "name": "stdout",
     "output_type": "stream",
     "text": [
      "True\n",
      "===================================\n",
      "False\n"
     ]
    }
   ],
   "source": [
    "#14. isdigit() - Returns True if all characters in the string are digits\n",
    "\n",
    "\n",
    "digit= '14862'\n",
    "print(digit.isdigit())\n",
    "\n",
    "print(\"===================================\")\n",
    "\n",
    "digit = 'Reddy'\n",
    "print(digit.isdigit())\n"
   ]
  },
  {
   "cell_type": "code",
   "execution_count": 15,
   "id": "1af76b18",
   "metadata": {},
   "outputs": [
    {
     "name": "stdout",
     "output_type": "stream",
     "text": [
      "True\n",
      "False\n",
      "False\n",
      "False\n"
     ]
    }
   ],
   "source": [
    "# 15. isidentifier() - Returns True if the string is an identifier\n",
    " \n",
    "lang1 = 'Python'\n",
    "print(lang1.isidentifier())\n",
    "\n",
    "lang2 = 'C++'\n",
    "print(lang2.isidentifier())\n",
    "\n",
    "lang3 = 'Ja va'\n",
    "print(lang3.isidentifier())\n",
    "\n",
    "lang4 = ''\n",
    "print(lang4.isidentifier())    "
   ]
  },
  {
   "cell_type": "code",
   "execution_count": 16,
   "id": "03ada5a2",
   "metadata": {},
   "outputs": [
    {
     "name": "stdout",
     "output_type": "stream",
     "text": [
      "True\n",
      "True\n",
      "False\n",
      "==============================================\n",
      "Does not contain uppercase letter.\n",
      "==============================================\n"
     ]
    },
    {
     "ename": "NameError",
     "evalue": "name 's' is not defined",
     "output_type": "error",
     "traceback": [
      "\u001b[1;31m---------------------------------------------------------------------------\u001b[0m",
      "\u001b[1;31mNameError\u001b[0m                                 Traceback (most recent call last)",
      "\u001b[1;32m~\\AppData\\Local\\Temp/ipykernel_22932/3288828042.py\u001b[0m in \u001b[0;36m<module>\u001b[1;34m\u001b[0m\n\u001b[0;32m     23\u001b[0m \u001b[1;33m\u001b[0m\u001b[0m\n\u001b[0;32m     24\u001b[0m \u001b[0mtom\u001b[0m \u001b[1;33m=\u001b[0m \u001b[1;34m'Tom is a Very Good Cat'\u001b[0m\u001b[1;33m\u001b[0m\u001b[1;33m\u001b[0m\u001b[0m\n\u001b[1;32m---> 25\u001b[1;33m \u001b[1;32mif\u001b[0m \u001b[0ms\u001b[0m\u001b[1;33m.\u001b[0m\u001b[0mislower\u001b[0m\u001b[1;33m(\u001b[0m\u001b[1;33m)\u001b[0m \u001b[1;33m==\u001b[0m \u001b[1;32mTrue\u001b[0m\u001b[1;33m:\u001b[0m\u001b[1;33m\u001b[0m\u001b[1;33m\u001b[0m\u001b[0m\n\u001b[0m\u001b[0;32m     26\u001b[0m   \u001b[0mprint\u001b[0m\u001b[1;33m(\u001b[0m\u001b[1;34m'Does not contain uppercase letter.'\u001b[0m\u001b[1;33m)\u001b[0m\u001b[1;33m\u001b[0m\u001b[1;33m\u001b[0m\u001b[0m\n\u001b[0;32m     27\u001b[0m \u001b[1;32melse\u001b[0m\u001b[1;33m:\u001b[0m\u001b[1;33m\u001b[0m\u001b[1;33m\u001b[0m\u001b[0m\n",
      "\u001b[1;31mNameError\u001b[0m: name 's' is not defined"
     ]
    }
   ],
   "source": [
    "# 15. islower() - Returns True if all characters in the string are lower case\n",
    "\n",
    "\n",
    "tom= 'tom is very naughty'\n",
    "print(tom.islower())\n",
    "\n",
    "tom = 't0m is very naughty!'\n",
    "print(tom.islower())\n",
    "\n",
    "jerry= 'jerrY is verY polite'\n",
    "print(jerry.islower())\n",
    "\n",
    "print(\"==============================================\")\n",
    "\n",
    "tom  = 'this is a very good cat'\n",
    "if tom.islower() == True:\n",
    "  print('Does not contain uppercase letter.')\n",
    "else:\n",
    "  print('Contains uppercase letter.')\n",
    "\n",
    "print(\"==============================================\")\n",
    "\n",
    "  \n",
    "tom = 'Tom is a Very Good Cat'\n",
    "if s.islower() == True:\n",
    "  print('Does not contain uppercase letter.')\n",
    "else:\n",
    "  print('Contains uppercase letter.')"
   ]
  },
  {
   "cell_type": "code",
   "execution_count": 17,
   "id": "5f3758e2",
   "metadata": {},
   "outputs": [
    {
     "name": "stdout",
     "output_type": "stream",
     "text": [
      "True\n",
      "True\n",
      "True\n",
      "True False\n"
     ]
    }
   ],
   "source": [
    "#16. isnumeric() - Returns True if all characters in the string are numeric\n",
    "\n",
    "\n",
    "num= '1710442'\n",
    "print(num.isnumeric())\n",
    "\n",
    "\n",
    "num= '\\u00B23455'\n",
    "print(num.isnumeric())\n",
    "\n",
    "# num = '1/2'\n",
    "num = '\\u00BD'\n",
    "print(num.isnumeric())\n",
    "\n",
    "num1= '1242323'\n",
    "num2='python12'\n",
    "print(num1.isnumeric(), num2.isnumeric())"
   ]
  },
  {
   "cell_type": "code",
   "execution_count": 18,
   "id": "8eba7725",
   "metadata": {},
   "outputs": [
    {
     "name": "stdout",
     "output_type": "stream",
     "text": [
      "We live in India\n",
      "True\n",
      "\n",
      "We live in India\n",
      "False\n",
      "**               **\n",
      "\n",
      "Empty string printable? True\n"
     ]
    }
   ],
   "source": [
    "#17. isprintable() - Returns True if all characters in the string are printable\n",
    "\n",
    "state = 'We live in India'\n",
    "print(state)\n",
    "print(state.isprintable())\n",
    "\n",
    "state = '\\nWe live in India'\n",
    "print(state)\n",
    "print(state.isprintable())\n",
    "\n",
    "space = '**               **'\n",
    "print(space)\n",
    "print('\\nEmpty string printable?', space.isprintable())"
   ]
  },
  {
   "cell_type": "code",
   "execution_count": 19,
   "id": "f4a96224",
   "metadata": {},
   "outputs": [
    {
     "name": "stdout",
     "output_type": "stream",
     "text": [
      "True\n",
      "True\n",
      "False\n",
      "False\n"
     ]
    }
   ],
   "source": [
    "#18. isspace() - Returns True if all characters in the string are whitespaces\n",
    "\n",
    "space= '   \\t'\n",
    "print(space.isspace())\n",
    "\n",
    "space= '\\n'\n",
    "print(space.isspace())\n",
    "\n",
    "space = ' a '\n",
    "print(space.isspace())\n",
    "\n",
    "space = ''\n",
    "print(space.isspace())"
   ]
  },
  {
   "cell_type": "code",
   "execution_count": 20,
   "id": "4814f889",
   "metadata": {},
   "outputs": [
    {
     "name": "stdout",
     "output_type": "stream",
     "text": [
      "True\n",
      "False\n",
      "True\n",
      "True\n",
      "False\n",
      "========================================================\n",
      "Titlecased String\n",
      "========================================================\n",
      "Not a Titlecased String\n"
     ]
    }
   ],
   "source": [
    "#19. istitle() - Returns True if the string follows the rules of a title.first letter of every word should be uppercase\n",
    "\n",
    "string_1= 'Python Is High Level Language.'\n",
    "print(string_1.istitle())\n",
    "\n",
    "string_2= 'Python is high level language'\n",
    "print(string_2.istitle())\n",
    "\n",
    "string_3 = 'This Is @ Symbol.'\n",
    "print(string_3.istitle())\n",
    "\n",
    "string_4= '99 Is A Number'\n",
    "print(string_4.istitle())\n",
    "\n",
    "string_5 = 'PYTHON'\n",
    "print(string_5.istitle())\n",
    "\n",
    "\n",
    "print(\"========================================================\")\n",
    "\n",
    "lang = 'Python Is Simple Programming Language.'\n",
    "if lang.istitle() == True:\n",
    "  print('Titlecased String')\n",
    "else:\n",
    "  print('Not a Titlecased String')\n",
    "\n",
    "print(\"========================================================\")\n",
    "\n",
    "lang = 'PYthon IS Simple Programming Language'\n",
    "if lang.istitle() == True:\n",
    "  print('Titlecased String')\n",
    "else:\n",
    "  print('Not a Titlecased String')\n"
   ]
  },
  {
   "cell_type": "code",
   "execution_count": 21,
   "id": "07569539",
   "metadata": {},
   "outputs": [
    {
     "name": "stdout",
     "output_type": "stream",
     "text": [
      "True\n",
      "False\n",
      "False\n",
      "True\n",
      "========================================================\n",
      "uppercased String\n",
      "========================================================\n",
      "Not a uppercased String\n"
     ]
    }
   ],
   "source": [
    "#20. isupper() - Returns True if all characters in the string are upper case\n",
    "\n",
    "string_1= 'PYTHON IS HIGH LEVEL PROGRAMMING LANGUAGE'\n",
    "print(string_1.isupper())\n",
    "\n",
    "string_2= 'PYTHON is high LEVEL language'\n",
    "print(string_2.isupper())\n",
    "\n",
    "string_3 = 'This Is @ Symbol.'\n",
    "print(string_3.isupper())\n",
    "\n",
    "string_4= '100 IS A NUMBER'\n",
    "print(string_4.isupper())\n",
    "\n",
    "\n",
    "print(\"========================================================\")\n",
    "\n",
    "lang = 'PYTHON IS HIGH LEVEL PROGRAMMING LANGUAGE.'\n",
    "if lang.isupper() == True:\n",
    "  print('uppercased String')\n",
    "else:\n",
    "  print('Not a uppercased String')\n",
    "\n",
    "print(\"========================================================\")\n",
    "\n",
    "lang = 'PYthon IS Simple Programming Language'\n",
    "if lang.isupper() == True:\n",
    "  print('uppercased String')\n",
    "else:\n",
    "  print('Not a uppercased String')"
   ]
  },
  {
   "cell_type": "code",
   "execution_count": 22,
   "id": "38224cf7",
   "metadata": {},
   "outputs": [
    {
     "name": "stdout",
     "output_type": "stream",
     "text": [
      "1abcde2abcde3abcde4abcde5\n",
      "\n",
      " a12345b12345c12345d12345e\n"
     ]
    }
   ],
   "source": [
    "#21. join() - Converts the elements of an iterable into a string\n",
    "\n",
    "\n",
    "alphabets= 'abcde'\n",
    "numbers  = '12345'\n",
    "\n",
    "print(alphabets.join(numbers))\n",
    "\n",
    "print('\\n',numbers.join(alphabets))"
   ]
  },
  {
   "cell_type": "code",
   "execution_count": 23,
   "id": "1f276d8f",
   "metadata": {},
   "outputs": [
    {
     "name": "stdout",
     "output_type": "stream",
     "text": [
      "using only width : priya     \n",
      "using both width and fill char: priya*****\n"
     ]
    }
   ],
   "source": [
    "#22. ljust() - Returns a left justified version of the string\n",
    "\n",
    "#using only width\n",
    "name = 'priya'\n",
    "print(\"using only width :\",name.ljust(10))\n",
    "\n",
    "\n",
    "# using width and fill char\n",
    "name = 'priya'\n",
    "print(\"using both width and fill char:\",name.ljust(10,'*'))"
   ]
  },
  {
   "cell_type": "code",
   "execution_count": 24,
   "id": "406e0b0f",
   "metadata": {},
   "outputs": [
    {
     "name": "stdout",
     "output_type": "stream",
     "text": [
      "python is high level language.\n",
      "python is high level language\n",
      "this is @ symbol.\n",
      "99 is a number\n",
      "python\n",
      "========================================================\n",
      "all are lower cased\n"
     ]
    }
   ],
   "source": [
    "# 23. lower() - Converts a string into lower case\n",
    "\n",
    "string_1= 'Python Is High Level Language.'\n",
    "print(string_1.lower())\n",
    "\n",
    "string_2= 'Python is high level language'\n",
    "print(string_2.lower())\n",
    "\n",
    "string_3 = 'This Is @ Symbol.'\n",
    "print(string_3.lower())\n",
    "\n",
    "string_4= '99 Is A Number'\n",
    "print(string_4.lower())\n",
    "\n",
    "string_5 = 'PYTHON'\n",
    "print(string_5.lower())\n",
    "\n",
    "\n",
    "print(\"========================================================\")\n",
    "\n",
    "string_one= 'Python Is High Level Language.'\n",
    "string_two= 'Python is high level language.'\n",
    "if(string_one.lower()==string_two.lower()):\n",
    "    print(\"all are lower cased\")\n",
    "else:\n",
    "    print(\"all are not lower cased\")"
   ]
  },
  {
   "cell_type": "code",
   "execution_count": 25,
   "id": "f2fcc5ed",
   "metadata": {},
   "outputs": [
    {
     "name": "stdout",
     "output_type": "stream",
     "text": [
      "PYTHON IS HIGH LEVEL LANGUAGE.\n",
      "PYTHON IS HIGH LEVEL LANGUAGE\n",
      "THIS IS @ SYMBOL.\n",
      "99 IS A NUMBER\n",
      "PYTHON\n",
      "========================================================\n",
      "all are upper cased\n"
     ]
    }
   ],
   "source": [
    "#24. upper() - Converts a string into upper case\n",
    "\n",
    "string_1= 'Python Is High Level Language.'\n",
    "print(string_1.upper())\n",
    "\n",
    "string_2= 'Python is high level language'\n",
    "print(string_2.upper())\n",
    "\n",
    "string_3 = 'This Is @ Symbol.'\n",
    "print(string_3.upper())\n",
    "\n",
    "string_4= '99 Is A Number'\n",
    "print(string_4.upper())\n",
    "\n",
    "string_5 = 'PYTHON'\n",
    "print(string_5.upper())\n",
    "\n",
    "\n",
    "print(\"========================================================\")\n",
    "\n",
    "string_one= 'Python Is High Level Language.'\n",
    "string_two= 'Python is high level language.'\n",
    "if(string_one.upper()==string_two.upper()):\n",
    "    print(\"all are upper cased\")\n",
    "else:\n",
    "    print(\"all are not upper cased\")"
   ]
  },
  {
   "cell_type": "code",
   "execution_count": 26,
   "id": "a4fcff7a",
   "metadata": {},
   "outputs": [
    {
     "name": "stdout",
     "output_type": "stream",
     "text": [
      "pYTHON iS hIGH lEVEL lANGUAGE.\n",
      "pYTHON IS HIGH LEVEL LANGUAGE\n",
      "tHIS iS @ sYMBOL.\n",
      "99 iS a nUMBER\n",
      "python\n",
      "========================================================\n",
      "all are not similarly cased\n"
     ]
    }
   ],
   "source": [
    "# 25. swapcase()- Swaps cases, lower case becomes upper case and vice versa\n",
    "\n",
    "string_1= 'Python Is High Level Language.'\n",
    "print(string_1.swapcase())\n",
    "\n",
    "string_2= 'Python is high level language'\n",
    "print(string_2.swapcase())\n",
    "\n",
    "string_3 = 'This Is @ Symbol.'\n",
    "print(string_3.swapcase())\n",
    "\n",
    "string_4= '99 Is A Number'\n",
    "print(string_4.swapcase())\n",
    "\n",
    "string_5 = 'PYTHON'\n",
    "print(string_5.swapcase())\n",
    "\n",
    "\n",
    "print(\"========================================================\")\n",
    "\n",
    "string_one= 'Python Is High Level Language.'\n",
    "string_two= 'Python is high level language.'\n",
    "if(string_one.swapcase()==string_two.swapcase()):\n",
    "    print(\"all are similarly cased\")\n",
    "else:\n",
    "    print(\"all are not similarly cased\")"
   ]
  },
  {
   "cell_type": "code",
   "execution_count": 27,
   "id": "96a05836",
   "metadata": {},
   "outputs": [
    {
     "name": "stdout",
     "output_type": "stream",
     "text": [
      "We lIve iN India\n",
      "We Live In India\n",
      "========================================================\n",
      "all are upper cased\n"
     ]
    }
   ],
   "source": [
    "# 26. title() - Converts the first character of each word to upper case\n",
    "\n",
    "state = 'We lIve iN India'\n",
    "print(state)\n",
    "\n",
    "print(state.title())\n",
    "\n",
    "print(\"========================================================\")\n",
    "\n",
    "string_one= 'Python Is High Level Language.'\n",
    "string_two= 'Python is high level language.'\n",
    "if(string_one.upper()==string_two.upper()):\n",
    "    print(\"all are upper cased\")\n",
    "else:\n",
    "    print(\"all are not upper cased\")"
   ]
  },
  {
   "cell_type": "code",
   "execution_count": 28,
   "id": "9e462d57",
   "metadata": {},
   "outputs": [
    {
     "name": "stdout",
     "output_type": "stream",
     "text": [
      "00000000000tom is very naughty\n",
      "0000000000jerrY is verY polite\n"
     ]
    }
   ],
   "source": [
    "# 27. zfill() - Fills the string with a specified number of 0 values at the beginning\n",
    "\n",
    "tom= 'tom is very naughty'\n",
    "print(tom.zfill(30))\n",
    "\n",
    "\n",
    "jerry= 'jerrY is verY polite'\n",
    "print(jerry.zfill(30))\n"
   ]
  },
  {
   "cell_type": "code",
   "execution_count": 29,
   "id": "e0c49e57",
   "metadata": {},
   "outputs": [
    {
     "name": "stdout",
     "output_type": "stream",
     "text": [
      "Clazz iz intrezting\n",
      "==========================\n",
      "Today popic is bip inpresping\n"
     ]
    }
   ],
   "source": [
    "#28. replace() - Returns a string where a specified value is replaced with a specified value\n",
    "\n",
    "content='Class is intresting'\n",
    "print(content.replace('s','z'))\n",
    "\n",
    "print(\"==========================\")\n",
    "\n",
    "content=\"Today topic is bit intresting\"\n",
    "print(content.replace('t','p'))"
   ]
  },
  {
   "cell_type": "code",
   "execution_count": 30,
   "id": "4a2f015c",
   "metadata": {},
   "outputs": [
    {
     "name": "stdout",
     "output_type": "stream",
     "text": [
      "['TOM', 'and', 'Jerry', 'are', 'friends']\n",
      "['TOM and Jerry are friends']\n",
      "['TOM and Jerry are friends']\n",
      "['Milk', 'cheese', 'Meat']\n",
      "['Milk, cheese, Meat']\n"
     ]
    }
   ],
   "source": [
    "#29. split()Splits the string at the specified separator, and returns a list\n",
    "\n",
    "text= 'TOM and Jerry are friends'\n",
    "\n",
    "# splits at space\n",
    "print(text.split())\n",
    "print(text.split(','))\n",
    "print(text.split(':'))\n",
    "\n",
    "\n",
    "food = 'Milk, cheese, Meat'\n",
    "\n",
    "# splits at ','\n",
    "print(food.split(', '))\n",
    "\n",
    "# Splits at ':'\n",
    "print(food.split(':'))\n"
   ]
  },
  {
   "cell_type": "code",
   "execution_count": 31,
   "id": "35f37792",
   "metadata": {},
   "outputs": [
    {
     "name": "stdout",
     "output_type": "stream",
     "text": [
      "['TOM', 'and', 'Jerry', 'are', 'friends']\n",
      "['TOM and Jerry are friends']\n",
      "['TOM and Jerry are friends']\n",
      "['Milk', 'cheese', 'Meat']\n",
      "['Milk, cheese, Meat']\n"
     ]
    }
   ],
   "source": [
    "#30. rsplit() - Splits the string at the specified separator, and returns a list\n",
    "\n",
    "text= 'TOM and Jerry are friends'\n",
    "\n",
    "# splits at space\n",
    "print(text.rsplit())\n",
    "print(text.rsplit(','))\n",
    "print(text.rsplit(':'))\n",
    "\n",
    "\n",
    "food = 'Milk, cheese, Meat'\n",
    "\n",
    "# splits at ','\n",
    "print(food.rsplit(', '))\n",
    "\n",
    "# Splits at ':'\n",
    "print(food.rsplit(':'))"
   ]
  },
  {
   "cell_type": "code",
   "execution_count": null,
   "id": "1be9ab0c",
   "metadata": {},
   "outputs": [],
   "source": []
  }
 ],
 "metadata": {
  "kernelspec": {
   "display_name": "Python 3 (ipykernel)",
   "language": "python",
   "name": "python3"
  },
  "language_info": {
   "codemirror_mode": {
    "name": "ipython",
    "version": 3
   },
   "file_extension": ".py",
   "mimetype": "text/x-python",
   "name": "python",
   "nbconvert_exporter": "python",
   "pygments_lexer": "ipython3",
   "version": "3.9.7"
  }
 },
 "nbformat": 4,
 "nbformat_minor": 5
}
